{
 "cells": [
  {
   "cell_type": "markdown",
   "id": "d26d41a6",
   "metadata": {},
   "source": [
    "# Data Science Tools and Ecosystem"
   ]
  },
  {
   "cell_type": "markdown",
   "id": "7db3fc18",
   "metadata": {},
   "source": [
    "## In this notebook, Data Science Tools and Ecosystem are summarized"
   ]
  },
  {
   "cell_type": "markdown",
   "id": "cf4387c1",
   "metadata": {},
   "source": [
    "_some of the most popular languages in data science are:_\n",
    "1. Python\n",
    "2. R\n",
    "3. SQL\n",
    "4. Java\n",
    "5. Ruby\n",
    "6. Go\n",
    "7. Scala"
   ]
  },
  {
   "cell_type": "markdown",
   "id": "aa74abb2",
   "metadata": {},
   "source": [
    "_Some of the commonly used libraries used by Data Scientists include:_\n",
    "1. Pandas (python)\n",
    "2. Scikit learn (python)\n",
    "3. dplyr (R)"
   ]
  },
  {
   "cell_type": "markdown",
   "id": "d29b573a",
   "metadata": {},
   "source": [
    "|Data Science Tools|\n",
    "|--------------------|\n",
    "|Jupyterlab (Dev. Environment) |\n",
    "|Google Colab (Dev. Environment) |\n",
    "|IBM Watson Studio |"
   ]
  },
  {
   "cell_type": "markdown",
   "id": "45ee0525",
   "metadata": {},
   "source": [
    "### Below are a few examples of evaluating arithmetic expressions in Python"
   ]
  },
  {
   "cell_type": "code",
   "execution_count": 2,
   "id": "b7ef34fd",
   "metadata": {},
   "outputs": [
    {
     "data": {
      "text/plain": [
       "17"
      ]
     },
     "execution_count": 2,
     "metadata": {},
     "output_type": "execute_result"
    }
   ],
   "source": [
    "#This a simple arithmetic expression to mutiply then add integer\n",
    "(3*4)+5"
   ]
  },
  {
   "cell_type": "code",
   "execution_count": 3,
   "id": "12898bbf",
   "metadata": {},
   "outputs": [
    {
     "name": "stdout",
     "output_type": "stream",
     "text": [
      "3.3333333333333335\n"
     ]
    }
   ],
   "source": [
    "#This will convert 200 minutes to hours by diving by 60\n",
    "a = 200 #minutes\n",
    "b = a/60 #hours\n",
    "print(b)"
   ]
  },
  {
   "cell_type": "markdown",
   "id": "5889513e",
   "metadata": {},
   "source": [
    "## Objectives:\n",
    "* languages in data science\n",
    "* tools in data science\n",
    "* introduction to R language\n",
    "* introduction to Git and Github"
   ]
  },
  {
   "cell_type": "markdown",
   "id": "f6f4334c",
   "metadata": {},
   "source": [
    "## Author: Ervin Naufal Arrasyid"
   ]
  }
 ],
 "metadata": {
  "kernelspec": {
   "display_name": "Python 3 (ipykernel)",
   "language": "python",
   "name": "python3"
  },
  "language_info": {
   "codemirror_mode": {
    "name": "ipython",
    "version": 3
   },
   "file_extension": ".py",
   "mimetype": "text/x-python",
   "name": "python",
   "nbconvert_exporter": "python",
   "pygments_lexer": "ipython3",
   "version": "3.11.5"
  }
 },
 "nbformat": 4,
 "nbformat_minor": 5
}
